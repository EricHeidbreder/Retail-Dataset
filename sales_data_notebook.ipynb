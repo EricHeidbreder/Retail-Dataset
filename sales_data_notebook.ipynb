{
 "cells": [
  {
   "cell_type": "code",
   "execution_count": 1,
   "metadata": {},
   "outputs": [],
   "source": [
    "import pandas as pd\n",
    "import numpy as np\n",
    "import matplotlib.pyplot as plt\n",
    "from datetime import datetime\n",
    "import itertools"
   ]
  },
  {
   "cell_type": "code",
   "execution_count": 2,
   "metadata": {},
   "outputs": [],
   "source": [
    "np.set_printoptions(threshold=np.inf)"
   ]
  },
  {
   "cell_type": "code",
   "execution_count": 3,
   "metadata": {},
   "outputs": [],
   "source": [
    "df = pd.read_excel('./data/Online Retail.xlsx')"
   ]
  },
  {
   "cell_type": "markdown",
   "metadata": {},
   "source": [
    "# Questions to answer\n",
    "\n",
    "* What are the best months for sales, and what products are selling best during those months?\n",
    "\n",
    "* What is the customer breakdown? What's the distribution of high-value/mid-value/low-value customers?\n",
    "\n",
    "* What is the average order per customer?\n",
    "\n",
    "* What is the month-to-month churn rate"
   ]
  },
  {
   "cell_type": "markdown",
   "metadata": {},
   "source": [
    "# Initial inspection of dataset\n",
    "\n",
    "I want to check out what's going on in the dataset, so first thing I'll do is look at what values are missing and what needs to clean up"
   ]
  },
  {
   "cell_type": "code",
   "execution_count": 4,
   "metadata": {},
   "outputs": [
    {
     "data": {
      "text/plain": [
       "InvoiceNo         0\n",
       "StockCode         0\n",
       "Description    1454\n",
       "Quantity          0\n",
       "InvoiceDate       0\n",
       "UnitPrice         0\n",
       "CustomerID        0\n",
       "Country           0\n",
       "dtype: int64"
      ]
     },
     "execution_count": 4,
     "metadata": {},
     "output_type": "execute_result"
    }
   ],
   "source": [
    "df.isnull().sum()"
   ]
  },
  {
   "cell_type": "markdown",
   "metadata": {},
   "source": [
    "We have some NaN values in the Description column, but everything else is looking okay. So let's investigate this column a little more and see if there's anything useful in the NaNs, the dataset doesn't say anything about what NaNs represent."
   ]
  },
  {
   "cell_type": "code",
   "execution_count": 5,
   "metadata": {},
   "outputs": [],
   "source": [
    "nan_desc = df[df['Description'].isna()]"
   ]
  },
  {
   "cell_type": "code",
   "execution_count": 6,
   "metadata": {},
   "outputs": [
    {
     "data": {
      "text/plain": [
       "622       0.0\n",
       "1970      0.0\n",
       "1971      0.0\n",
       "1972      0.0\n",
       "1987      0.0\n",
       "         ... \n",
       "535322    0.0\n",
       "535326    0.0\n",
       "535332    0.0\n",
       "536981    0.0\n",
       "538554    0.0\n",
       "Name: UnitPrice, Length: 1454, dtype: float64"
      ]
     },
     "execution_count": 6,
     "metadata": {},
     "output_type": "execute_result"
    }
   ],
   "source": [
    "nan_desc['UnitPrice']"
   ]
  },
  {
   "cell_type": "code",
   "execution_count": 7,
   "metadata": {},
   "outputs": [
    {
     "data": {
      "text/plain": [
       "0"
      ]
     },
     "execution_count": 7,
     "metadata": {},
     "output_type": "execute_result"
    }
   ],
   "source": [
    "# Checking to see if there are any canceled orders with descriptions that are nan values, \n",
    "# because that would still be valuable information for us to have.\n",
    "nan_desc['InvoiceNo'].astype('str').str.startswith('C').sum()"
   ]
  },
  {
   "cell_type": "markdown",
   "metadata": {},
   "source": [
    "There are **1454 transactions with no description**, but the `UnitPrice` on each of these entries is 0, so for our analysis, we're going to remove them from our sales data. I would also ask the client if an empty description is significant to them. It could be an abandoned cart / deprecated method of indicating a return."
   ]
  },
  {
   "cell_type": "code",
   "execution_count": 8,
   "metadata": {},
   "outputs": [],
   "source": [
    "# Setting the index as a datetime object for easy resampling\n",
    "df.set_index('InvoiceDate', inplace=True)"
   ]
  },
  {
   "cell_type": "code",
   "execution_count": 9,
   "metadata": {},
   "outputs": [],
   "source": [
    "# Dropping the NaN values as mentioned above\n",
    "df.dropna(inplace=True)"
   ]
  },
  {
   "cell_type": "code",
   "execution_count": 10,
   "metadata": {},
   "outputs": [
    {
     "data": {
      "image/png": "[encoded data removed]",
      "text/plain": [
       "<Figure size 432x288 with 1 Axes>"
      ]
     },
     "metadata": {
      "needs_background": "light"
     },
     "output_type": "display_data"
    }
   ],
   "source": [
    "# Visualizing the distribution of our data.\n",
    "plt.boxplot(df[['UnitPrice', 'Quantity']]);"
   ]
  },
  {
   "cell_type": "code",
   "execution_count": 11,
   "metadata": {},
   "outputs": [
    {
     "data": {
      "text/html": [
       "<div>\n",
       "<style scoped>\n",
       "    .dataframe tbody tr th:only-of-type {\n",
       "        vertical-align: middle;\n",
       "    }\n",
       "\n",
       "    .dataframe tbody tr th {\n",
       "        vertical-align: top;\n",
       "    }\n",
       "\n",
       "    .dataframe thead th {\n",
       "        text-align: right;\n",
       "    }\n",
       "</style>\n",
       "<table border=\"1\" class=\"dataframe\">\n",
       "  <thead>\n",
       "    <tr style=\"text-align: right;\">\n",
       "      <th></th>\n",
       "      <th>UnitPrice</th>\n",
       "      <th>Quantity</th>\n",
       "    </tr>\n",
       "  </thead>\n",
       "  <tbody>\n",
       "    <tr>\n",
       "      <th>count</th>\n",
       "      <td>540455.000000</td>\n",
       "      <td>540455.000000</td>\n",
       "    </tr>\n",
       "    <tr>\n",
       "      <th>mean</th>\n",
       "      <td>4.623519</td>\n",
       "      <td>9.603129</td>\n",
       "    </tr>\n",
       "    <tr>\n",
       "      <th>std</th>\n",
       "      <td>96.889628</td>\n",
       "      <td>218.007598</td>\n",
       "    </tr>\n",
       "    <tr>\n",
       "      <th>min</th>\n",
       "      <td>-11062.060000</td>\n",
       "      <td>-80995.000000</td>\n",
       "    </tr>\n",
       "    <tr>\n",
       "      <th>25%</th>\n",
       "      <td>1.250000</td>\n",
       "      <td>1.000000</td>\n",
       "    </tr>\n",
       "    <tr>\n",
       "      <th>50%</th>\n",
       "      <td>2.080000</td>\n",
       "      <td>3.000000</td>\n",
       "    </tr>\n",
       "    <tr>\n",
       "      <th>75%</th>\n",
       "      <td>4.130000</td>\n",
       "      <td>10.000000</td>\n",
       "    </tr>\n",
       "    <tr>\n",
       "      <th>max</th>\n",
       "      <td>38970.000000</td>\n",
       "      <td>80995.000000</td>\n",
       "    </tr>\n",
       "  </tbody>\n",
       "</table>\n",
       "</div>"
      ],
      "text/plain": [
       "           UnitPrice       Quantity\n",
       "count  540455.000000  540455.000000\n",
       "mean        4.623519       9.603129\n",
       "std        96.889628     218.007598\n",
       "min    -11062.060000  -80995.000000\n",
       "25%         1.250000       1.000000\n",
       "50%         2.080000       3.000000\n",
       "75%         4.130000      10.000000\n",
       "max     38970.000000   80995.000000"
      ]
     },
     "execution_count": 11,
     "metadata": {},
     "output_type": "execute_result"
    }
   ],
   "source": [
    "df[['UnitPrice', 'Quantity']].describe()"
   ]
  },
  {
   "cell_type": "markdown",
   "metadata": {},
   "source": [
    "75% of our transactions have a unit price under \\\\$4.13. I'll need to investigate the outliers further to see what transactions have such a high `UnitPrice`.\n",
    "\n",
    "Also, it looks like our `Quantity` column might show as negative for canceled transactions - we'll need to clean that up. "
   ]
  },
  {
   "cell_type": "code",
   "execution_count": 12,
   "metadata": {},
   "outputs": [
    {
     "data": {
      "text/plain": [
       "array(['DOTCOM POSTAGE', 'Manual', 'AMAZON FEE', 'Bank Charges',\n",
       "       'Discount', 'POSTAGE', 'PICNIC BASKET WICKER 60 PIECES', 'SAMPLES',\n",
       "       'Adjust bad debt', 'CRUK Commission'], dtype=object)"
      ]
     },
     "execution_count": 12,
     "metadata": {},
     "output_type": "execute_result"
    }
   ],
   "source": [
    "df[df['UnitPrice'] > 500]['Description'].unique()"
   ]
  },
  {
   "cell_type": "markdown",
   "metadata": {},
   "source": [
    "**Most of the items with a `UnitPrice` above 500 are not related to specific items**. These seem to be shipping/fees/commission and manual entries of data. We'll remove these descriptions when analyzing our sales data, since they don't tell us anything about the products that are selling well."
   ]
  },
  {
   "cell_type": "markdown",
   "metadata": {},
   "source": [
    "# Feature Engineering\n",
    "\n",
    "There are some features that would be helpful to calculate. Some of the things that are missing are:\n",
    "* `TotalSale`: `UnitPrice` * `Quantity`\n",
    "* `CanceledOrder`: boolean that shows whether `InvoiceNo` starts with 'C'"
   ]
  },
  {
   "cell_type": "code",
   "execution_count": 13,
   "metadata": {},
   "outputs": [],
   "source": [
    "order_canceled = ~df['InvoiceNo'].str.startswith('C').isna()"
   ]
  },
  {
   "cell_type": "code",
   "execution_count": 14,
   "metadata": {},
   "outputs": [],
   "source": [
    "unit_x_quantity = lambda x: x['UnitPrice'] * x['Quantity']"
   ]
  },
  {
   "cell_type": "code",
   "execution_count": 15,
   "metadata": {},
   "outputs": [],
   "source": [
    "# Currently no way of knowing total sale per transaction\n",
    "df['TotalSale'] = df.apply(unit_x_quantity, axis=1)"
   ]
  },
  {
   "cell_type": "code",
   "execution_count": 16,
   "metadata": {},
   "outputs": [],
   "source": [
    "# Create a column that determines whether an order was canceled or not\n",
    "df['CanceledOrder'] = order_canceled"
   ]
  },
  {
   "cell_type": "markdown",
   "metadata": {},
   "source": [
    "# Cleaning the data\n",
    "\n",
    "Our data has a lot of descriptions that are not relevant to the product sales question - things like shipping, damaged items, lost items, etc. The non-product related descriptions all seem to be lowercase, while sales-related descriptions seem to be uppercase. So, we will separate these two different categories into separate dataframes. One for product-related descriptions, and one for returns/shipping/damaged items.\n"
   ]
  },
  {
   "cell_type": "code",
   "execution_count": 17,
   "metadata": {},
   "outputs": [],
   "source": [
    "# Even after cleaning the data, there are still some outlier descriptions that require manual filtering\n",
    "sales_desc = ['FRENCH BLUE METAL DOOR SIGN No', \n",
    "                \"Dr. Jam's Arouzer Stress Ball\",\n",
    "                '3 TRADITIONAl BISCUIT CUTTERS  SET',\n",
    "                'NUMBER TILE VINTAGE FONT No ',\n",
    "                '*USB Office Mirror Ball',\n",
    "                '*Boombox Ipod Classic',\n",
    "                'NUMBER TILE COTTAGE GARDEN No',\n",
    "                'FLOWERS HANDBAG blue and orange',\n",
    "                \"Dad's Cab Electronic Meter\"]"
   ]
  },
  {
   "cell_type": "code",
   "execution_count": 18,
   "metadata": {},
   "outputs": [],
   "source": [
    "# Similarly to above, there are some non_sales descriptions that were capitalized\n",
    "non_sales_desc = ['AMAZON FEE',\n",
    "                 'DOTCOM POSTAGE',\n",
    "                 'POSTAGE',\n",
    "                 'SAMPLES']"
   ]
  },
  {
   "cell_type": "code",
   "execution_count": 19,
   "metadata": {},
   "outputs": [],
   "source": [
    "# Create filters that will capture all of the sales data. Note that some of the sales \n",
    "is_uppercase = df['Description'].str.upper() == df['Description']\n",
    "contains_num_and_letter = df['Description'].str.contains('\\d\\w')\n",
    "is_in_sales_desc = df['Description'].isin(sales_desc)\n",
    "not_in_non_sales_desc = ~df['Description'].isin(non_sales_desc)\n",
    "no_question_mark = ~df['Description'].astype('str').str.contains('\\?')\n",
    "\n",
    "# This filter eliminates any non-sale related transactions\n",
    "non_zero_unit = df['UnitPrice'] != 0"
   ]
  },
  {
   "cell_type": "code",
   "execution_count": 20,
   "metadata": {},
   "outputs": [],
   "source": [
    "description_sales = ((is_uppercase) | (contains_num_and_letter) | (is_in_sales_desc)) & (not_in_non_sales_desc)"
   ]
  },
  {
   "cell_type": "code",
   "execution_count": 21,
   "metadata": {},
   "outputs": [],
   "source": [
    "df_sales = df[(description_sales) & (no_question_mark)]"
   ]
  },
  {
   "cell_type": "code",
   "execution_count": 22,
   "metadata": {},
   "outputs": [],
   "source": [
    "# Setting df_other to the inverse of df_sales \n",
    "df_other = df[(~description_sales) & (df['Description'].notnull())]"
   ]
  },
  {
   "cell_type": "markdown",
   "metadata": {},
   "source": [
    "# EDA Part II:\n",
    "\n",
    "Now that I've cleaned my data up a bit, we can look at sales again."
   ]
  },
  {
   "cell_type": "code",
   "execution_count": 23,
   "metadata": {},
   "outputs": [],
   "source": [
    "# One more pass to see if there's any resitual non-sales data that didn't get caught by our filters\n",
    "final_check = df_sales[(~df_sales['CanceledOrder']) & (df_sales['Quantity'] < 0)]\n",
    "remaining_non_sales = final_check['Description'].tolist()"
   ]
  },
  {
   "cell_type": "code",
   "execution_count": 24,
   "metadata": {},
   "outputs": [],
   "source": [
    "# Removing those final descriptions from our sales dataset\n",
    "df_sales = df_sales[~df_sales['Description'].isin(remaining_non_sales)]"
   ]
  },
  {
   "cell_type": "code",
   "execution_count": 25,
   "metadata": {},
   "outputs": [
    {
     "data": {
      "image/png": "[encoded data removed]",
      "text/plain": [
       "<Figure size 432x288 with 1 Axes>"
      ]
     },
     "metadata": {
      "needs_background": "light"
     },
     "output_type": "display_data"
    }
   ],
   "source": [
    "# Distribution of UnitPrice and Quantity. Removed canceled orders for readability.\n",
    "df_sales[~df_sales['CanceledOrder']][['UnitPrice', 'Quantity', 'TotalSale']].plot(kind='box');"
   ]
  },
  {
   "cell_type": "markdown",
   "metadata": {},
   "source": [
    "The outliers are throwing off the readability of our boxplot, and all the orders with quantities above 5000 are orders that were canceled within minutes (Though invoice C536757 \"ROTATING SILVER ANGELS...\" doesn't have a corresponding sale). I'm going to remove transactions with an absolute value of quantity above 5000"
   ]
  },
  {
   "cell_type": "code",
   "execution_count": 26,
   "metadata": {},
   "outputs": [
    {
     "data": {
      "text/html": [
       "<div>\n",
       "<style scoped>\n",
       "    .dataframe tbody tr th:only-of-type {\n",
       "        vertical-align: middle;\n",
       "    }\n",
       "\n",
       "    .dataframe tbody tr th {\n",
       "        vertical-align: top;\n",
       "    }\n",
       "\n",
       "    .dataframe thead th {\n",
       "        text-align: right;\n",
       "    }\n",
       "</style>\n",
       "<table border=\"1\" class=\"dataframe\">\n",
       "  <thead>\n",
       "    <tr style=\"text-align: right;\">\n",
       "      <th></th>\n",
       "      <th>InvoiceNo</th>\n",
       "      <th>Description</th>\n",
       "      <th>Quantity</th>\n",
       "      <th>UnitPrice</th>\n",
       "      <th>TotalSale</th>\n",
       "    </tr>\n",
       "    <tr>\n",
       "      <th>InvoiceDate</th>\n",
       "      <th></th>\n",
       "      <th></th>\n",
       "      <th></th>\n",
       "      <th></th>\n",
       "      <th></th>\n",
       "    </tr>\n",
       "  </thead>\n",
       "  <tbody>\n",
       "    <tr>\n",
       "      <th>2010-12-02 14:23:00</th>\n",
       "      <td>C536757</td>\n",
       "      <td>ROTATING SILVER ANGELS T-LIGHT HLDR</td>\n",
       "      <td>-9360</td>\n",
       "      <td>0.03</td>\n",
       "      <td>-280.8</td>\n",
       "    </tr>\n",
       "    <tr>\n",
       "      <th>2011-01-18 10:01:00</th>\n",
       "      <td>541431</td>\n",
       "      <td>MEDIUM CERAMIC TOP STORAGE JAR</td>\n",
       "      <td>74215</td>\n",
       "      <td>1.04</td>\n",
       "      <td>77183.6</td>\n",
       "    </tr>\n",
       "    <tr>\n",
       "      <th>2011-01-18 10:17:00</th>\n",
       "      <td>C541433</td>\n",
       "      <td>MEDIUM CERAMIC TOP STORAGE JAR</td>\n",
       "      <td>-74215</td>\n",
       "      <td>1.04</td>\n",
       "      <td>-77183.6</td>\n",
       "    </tr>\n",
       "    <tr>\n",
       "      <th>2011-11-25 15:57:00</th>\n",
       "      <td>578841</td>\n",
       "      <td>ASSTD DESIGN 3D PAPER STICKERS</td>\n",
       "      <td>12540</td>\n",
       "      <td>0.00</td>\n",
       "      <td>0.0</td>\n",
       "    </tr>\n",
       "    <tr>\n",
       "      <th>2011-12-09 09:15:00</th>\n",
       "      <td>581483</td>\n",
       "      <td>PAPER CRAFT , LITTLE BIRDIE</td>\n",
       "      <td>80995</td>\n",
       "      <td>2.08</td>\n",
       "      <td>168469.6</td>\n",
       "    </tr>\n",
       "    <tr>\n",
       "      <th>2011-12-09 09:27:00</th>\n",
       "      <td>C581484</td>\n",
       "      <td>PAPER CRAFT , LITTLE BIRDIE</td>\n",
       "      <td>-80995</td>\n",
       "      <td>2.08</td>\n",
       "      <td>-168469.6</td>\n",
       "    </tr>\n",
       "  </tbody>\n",
       "</table>\n",
       "</div>"
      ],
      "text/plain": [
       "                    InvoiceNo                          Description  Quantity  \\\n",
       "InvoiceDate                                                                    \n",
       "2010-12-02 14:23:00   C536757  ROTATING SILVER ANGELS T-LIGHT HLDR     -9360   \n",
       "2011-01-18 10:01:00    541431       MEDIUM CERAMIC TOP STORAGE JAR     74215   \n",
       "2011-01-18 10:17:00   C541433       MEDIUM CERAMIC TOP STORAGE JAR    -74215   \n",
       "2011-11-25 15:57:00    578841       ASSTD DESIGN 3D PAPER STICKERS     12540   \n",
       "2011-12-09 09:15:00    581483          PAPER CRAFT , LITTLE BIRDIE     80995   \n",
       "2011-12-09 09:27:00   C581484          PAPER CRAFT , LITTLE BIRDIE    -80995   \n",
       "\n",
       "                     UnitPrice  TotalSale  \n",
       "InvoiceDate                                \n",
       "2010-12-02 14:23:00       0.03     -280.8  \n",
       "2011-01-18 10:01:00       1.04    77183.6  \n",
       "2011-01-18 10:17:00       1.04   -77183.6  \n",
       "2011-11-25 15:57:00       0.00        0.0  \n",
       "2011-12-09 09:15:00       2.08   168469.6  \n",
       "2011-12-09 09:27:00       2.08  -168469.6  "
      ]
     },
     "execution_count": 26,
     "metadata": {},
     "output_type": "execute_result"
    }
   ],
   "source": [
    "# Inspecting transactions with an absolute value of quantity greater than 5000\n",
    "df_sales[abs(df_sales['Quantity']) > 5000][['InvoiceNo', 'Description', 'Quantity', 'UnitPrice', 'TotalSale']]"
   ]
  },
  {
   "cell_type": "code",
   "execution_count": 27,
   "metadata": {},
   "outputs": [],
   "source": [
    "# Removing transactions with an absolute value of quantity greater than 5000\n",
    "df_sales = df_sales[abs(df_sales['Quantity']) < 5000]"
   ]
  },
  {
   "cell_type": "code",
   "execution_count": 28,
   "metadata": {},
   "outputs": [
    {
     "data": {
      "image/png": "[encoded data removed]",
      "text/plain": [
       "<Figure size 432x288 with 1 Axes>"
      ]
     },
     "metadata": {
      "needs_background": "light"
     },
     "output_type": "display_data"
    }
   ],
   "source": [
    "df_sales[~df_sales['CanceledOrder']][['UnitPrice', 'Quantity', 'TotalSale']].plot(kind='box');"
   ]
  },
  {
   "cell_type": "code",
   "execution_count": 29,
   "metadata": {},
   "outputs": [],
   "source": [
    "# We're clean! Saving dataframe as a csv.\n",
    "# df_sales.to_csv('./data/Online Retail Sales.csv')"
   ]
  },
  {
   "cell_type": "code",
   "execution_count": 30,
   "metadata": {},
   "outputs": [
    {
     "data": {
      "text/html": [
       "<div>\n",
       "<style scoped>\n",
       "    .dataframe tbody tr th:only-of-type {\n",
       "        vertical-align: middle;\n",
       "    }\n",
       "\n",
       "    .dataframe tbody tr th {\n",
       "        vertical-align: top;\n",
       "    }\n",
       "\n",
       "    .dataframe thead th {\n",
       "        text-align: right;\n",
       "    }\n",
       "</style>\n",
       "<table border=\"1\" class=\"dataframe\">\n",
       "  <thead>\n",
       "    <tr style=\"text-align: right;\">\n",
       "      <th></th>\n",
       "      <th>UnitPrice</th>\n",
       "      <th>Quantity</th>\n",
       "    </tr>\n",
       "  </thead>\n",
       "  <tbody>\n",
       "    <tr>\n",
       "      <th>count</th>\n",
       "      <td>536974.000000</td>\n",
       "      <td>536974.000000</td>\n",
       "    </tr>\n",
       "    <tr>\n",
       "      <th>mean</th>\n",
       "      <td>3.293063</td>\n",
       "      <td>9.914657</td>\n",
       "    </tr>\n",
       "    <tr>\n",
       "      <th>std</th>\n",
       "      <td>4.562556</td>\n",
       "      <td>38.781697</td>\n",
       "    </tr>\n",
       "    <tr>\n",
       "      <th>min</th>\n",
       "      <td>0.000000</td>\n",
       "      <td>-3114.000000</td>\n",
       "    </tr>\n",
       "    <tr>\n",
       "      <th>25%</th>\n",
       "      <td>1.250000</td>\n",
       "      <td>1.000000</td>\n",
       "    </tr>\n",
       "    <tr>\n",
       "      <th>50%</th>\n",
       "      <td>2.080000</td>\n",
       "      <td>3.000000</td>\n",
       "    </tr>\n",
       "    <tr>\n",
       "      <th>75%</th>\n",
       "      <td>4.130000</td>\n",
       "      <td>10.000000</td>\n",
       "    </tr>\n",
       "    <tr>\n",
       "      <th>max</th>\n",
       "      <td>649.500000</td>\n",
       "      <td>4800.000000</td>\n",
       "    </tr>\n",
       "  </tbody>\n",
       "</table>\n",
       "</div>"
      ],
      "text/plain": [
       "           UnitPrice       Quantity\n",
       "count  536974.000000  536974.000000\n",
       "mean        3.293063       9.914657\n",
       "std         4.562556      38.781697\n",
       "min         0.000000   -3114.000000\n",
       "25%         1.250000       1.000000\n",
       "50%         2.080000       3.000000\n",
       "75%         4.130000      10.000000\n",
       "max       649.500000    4800.000000"
      ]
     },
     "execution_count": 30,
     "metadata": {},
     "output_type": "execute_result"
    }
   ],
   "source": [
    "df_sales[['UnitPrice', 'Quantity']].describe()"
   ]
  },
  {
   "cell_type": "markdown",
   "metadata": {},
   "source": [
    "Our summary statistics look similar to what we found in the original EDA. **75% of our data still has a unit price under \\$4.13.** But now our standard deviation is now much smaller (~4.6 compared to ~96.8)"
   ]
  },
  {
   "cell_type": "markdown",
   "metadata": {},
   "source": [
    "# Creating a Date Scaffold\n",
    "Let's prep the data to do some customer churn calculations by building a date scaffold that will show whether a customer was active across the full range of dates. Currently, customers who churn and don't come back won't be picked up by the dataset because their start / end dates aren't tracked."
   ]
  },
  {
   "cell_type": "code",
   "execution_count": 31,
   "metadata": {},
   "outputs": [],
   "source": [
    "scaffold = df_sales.groupby('CustomerID').resample('M').mean().index"
   ]
  },
  {
   "cell_type": "code",
   "execution_count": 32,
   "metadata": {},
   "outputs": [],
   "source": [
    "# Getting all unique customer IDs\n",
    "cust_ids = df['CustomerID'].value_counts().index"
   ]
  },
  {
   "cell_type": "code",
   "execution_count": 33,
   "metadata": {},
   "outputs": [],
   "source": [
    "# Getting all months in the full date range, sorting them for sanity.\n",
    "date_list = sorted(list({date[1] for date in scaffold}))"
   ]
  },
  {
   "cell_type": "code",
   "execution_count": 34,
   "metadata": {},
   "outputs": [],
   "source": [
    "# Creating a date scaffold to track churn rate\n",
    "date_scaffold = date_list * len(cust_ids)"
   ]
  },
  {
   "cell_type": "code",
   "execution_count": 35,
   "metadata": {},
   "outputs": [],
   "source": [
    "# Need to match the number of dates with customer ids\n",
    "cust_ids = [[cust_id] * len(date_list) for cust_id in cust_ids]"
   ]
  },
  {
   "cell_type": "code",
   "execution_count": 36,
   "metadata": {},
   "outputs": [],
   "source": [
    "# And let's join all the nested lists I just made\n",
    "cust_ids = list(itertools.chain.from_iterable(cust_ids))"
   ]
  },
  {
   "cell_type": "code",
   "execution_count": 37,
   "metadata": {},
   "outputs": [],
   "source": [
    "# Zipping these into a tuple to make a multi index\n",
    "tuples = list(zip(cust_ids, date_scaffold))"
   ]
  },
  {
   "cell_type": "code",
   "execution_count": 38,
   "metadata": {},
   "outputs": [],
   "source": [
    "# Creating a multi index - from pandas documentation\n",
    "multiindex = pd.MultiIndex.from_tuples(tuples, names=['CustomerID', 'InvoiceDate'])"
   ]
  },
  {
   "cell_type": "markdown",
   "metadata": {},
   "source": [
    "# Generating customer segments using bins\n",
    "\n",
    "I want to be able to visualize different customer segments, so I'll create a new dataframe that splits customers into segments."
   ]
  },
  {
   "cell_type": "code",
   "execution_count": 39,
   "metadata": {},
   "outputs": [],
   "source": [
    "customer_summary = pd.DataFrame(index=multiindex)"
   ]
  },
  {
   "cell_type": "code",
   "execution_count": 40,
   "metadata": {},
   "outputs": [],
   "source": [
    "# Let's grab the total sales per customer, we'll use this to generate customer segments\n",
    "customer_summary['SumTotalSale'] = df_sales.groupby('CustomerID').resample('M').sum()['TotalSale']"
   ]
  },
  {
   "cell_type": "code",
   "execution_count": 41,
   "metadata": {},
   "outputs": [],
   "source": [
    "# Renaming this so it doesn't get confusing when we join it with our original dataset\n",
    "customer_summary.rename(columns={'TotalSale': 'SumTotalSale'}, inplace=True)"
   ]
  },
  {
   "cell_type": "code",
   "execution_count": 42,
   "metadata": {},
   "outputs": [],
   "source": [
    "# Let's grab the average unit price per customer, this will be helpful for understanding buying\n",
    "# habits of our different customer segments\n",
    "customer_summary['AvgUnitPrice'] = df_sales.groupby('CustomerID').resample('M').mean()['UnitPrice']"
   ]
  },
  {
   "cell_type": "code",
   "execution_count": 43,
   "metadata": {},
   "outputs": [],
   "source": [
    "# Let's grab the average Quantity per customer. Similarly, this can help understand buying habits\n",
    "# of different customer segments\n",
    "customer_summary['AvgQuantity'] = df_sales.groupby('CustomerID').resample('M').mean()['Quantity']"
   ]
  },
  {
   "cell_type": "code",
   "execution_count": 44,
   "metadata": {},
   "outputs": [],
   "source": [
    "customer_summary['TotalOrders'] = df_sales.groupby('CustomerID').resample('M').nunique()['InvoiceNo']"
   ]
  },
  {
   "cell_type": "code",
   "execution_count": 45,
   "metadata": {},
   "outputs": [],
   "source": [
    "# Need to fill the NaN values with 0, they're cause when a user made no purchases in a given month\n",
    "customer_summary.fillna(0, inplace=True)"
   ]
  },
  {
   "cell_type": "code",
   "execution_count": 46,
   "metadata": {},
   "outputs": [],
   "source": [
    "# Creating the customer segments, breaking them into 4 categories\n",
    "customer_summary['Segment'] = customer_summary['SumTotalSale'].apply(lambda x:\\\n",
    "                                                '< £1k' if 0 < x < 1000 else\\\n",
    "                                               ('£1k - £5k' if 1000 < x < 5000 else\\\n",
    "                                               ('£5k - £10k' if 5000 < x < 10000 else\\\n",
    "                                               ('> £10k' if 10000 < x else 'No Sales'))))\n"
   ]
  },
  {
   "cell_type": "markdown",
   "metadata": {},
   "source": [
    "# Calculating Customer Churn\n",
    "With this dataset, churn rate was very hard to calculate using Tableau alone. Let's create some columns that will help with our calculations when transferring the data over to Tableau."
   ]
  },
  {
   "cell_type": "code",
   "execution_count": 47,
   "metadata": {},
   "outputs": [],
   "source": [
    "# Detecting whether a customer has churned based on the previous month\n",
    "customer_summary['Churned'] = customer_summary['SumTotalSale'].apply(lambda x: 0 if x <= 0 else 1).diff()\n",
    "customer_summary['Churned'] = customer_summary['Churned'].apply(lambda x: 1 if x == -1 else 0)"
   ]
  },
  {
   "cell_type": "code",
   "execution_count": 49,
   "metadata": {},
   "outputs": [],
   "source": [
    "# Some of the calculations resulted in NaN because there was no data for the customer in a given month. \n",
    "# I'll replace those with zeroes\n",
    "customer_summary.fillna(0, inplace=True)"
   ]
  },
  {
   "cell_type": "code",
   "execution_count": 50,
   "metadata": {},
   "outputs": [],
   "source": [
    "# Adding the invoice date column back in, currently it's inaccessible in the multiindex\n",
    "customer_summary['InvoiceDateCol'] = customer_summary.droplevel(0).index"
   ]
  },
  {
   "cell_type": "code",
   "execution_count": 51,
   "metadata": {},
   "outputs": [],
   "source": [
    "# Shifting the customer segments so I can count up which segments churned most frequently\n",
    "customer_summary['Segment_shifted'] = customer_summary['Segment'].shift()"
   ]
  },
  {
   "cell_type": "code",
   "execution_count": 52,
   "metadata": {},
   "outputs": [],
   "source": [
    "# None of the first entries should have any Churn since there's no prior data\n",
    "customer_summary.loc[customer_summary['InvoiceDateCol'] == '2010-12-31', 'Churned'] = 0"
   ]
  },
  {
   "cell_type": "code",
   "execution_count": 53,
   "metadata": {},
   "outputs": [],
   "source": [
    "# Need to get the total customers from the previous month\n",
    "total_customers_per_month = customer_summary[customer_summary['SumTotalSale'] > 0].groupby('InvoiceDate').count()['Churned'].shift()"
   ]
  },
  {
   "cell_type": "code",
   "execution_count": 54,
   "metadata": {},
   "outputs": [],
   "source": [
    "# Couldn't create churn rate in Tableau effectively, so I'm creating it here by taking the\n",
    "# sum of the Churned column (number churned) divided by the total number of customers in the previous\n",
    "# month\n",
    "churn_rate = customer_summary.groupby('InvoiceDate').sum()['Churned'] / total_customers_per_month"
   ]
  },
  {
   "cell_type": "code",
   "execution_count": 1,
   "metadata": {},
   "outputs": [
    {
     "output_type": "error",
     "ename": "NameError",
     "evalue": "name 'churn_rate' is not defined",
     "traceback": [
      "\u001b[1;31m---------------------------------------------------------------------------\u001b[0m",
      "\u001b[1;31mNameError\u001b[0m                                 Traceback (most recent call last)",
      "\u001b[1;32m<ipython-input-1-c8e4b635e112>\u001b[0m in \u001b[0;36m<module>\u001b[1;34m\u001b[0m\n\u001b[1;32m----> 1\u001b[1;33m \u001b[0mchurn_rate\u001b[0m\u001b[1;33m.\u001b[0m\u001b[0mplot\u001b[0m\u001b[1;33m(\u001b[0m\u001b[1;33m)\u001b[0m\u001b[1;33m\u001b[0m\u001b[1;33m\u001b[0m\u001b[0m\n\u001b[0m",
      "\u001b[1;31mNameError\u001b[0m: name 'churn_rate' is not defined"
     ]
    }
   ],
   "source": [
    "churn_rate"
   ]
  },
  {
   "cell_type": "code",
   "execution_count": 56,
   "metadata": {},
   "outputs": [],
   "source": [
    "# Need to \n",
    "churn_rate.name = 'ChurnRate'"
   ]
  },
  {
   "cell_type": "code",
   "execution_count": 57,
   "metadata": {},
   "outputs": [],
   "source": [
    "# Now I need to join this churn rate to the original dataframe\n",
    "customer_summary = customer_summary.join(churn_rate, rsuffix='ChurnRate')"
   ]
  },
  {
   "cell_type": "code",
   "execution_count": 59,
   "metadata": {},
   "outputs": [],
   "source": [
    "# Let's turn this into a csv. We can join it with the original dataset in Tableau.\n",
    "customer_summary.to_csv('./data/Customer Segments_monthly.csv')"
   ]
  }
 ],
 "metadata": {
  "kernelspec": {
   "display_name": "Python 3",
   "language": "python",
   "name": "python3"
  },
  "language_info": {
   "codemirror_mode": {
    "name": "ipython",
    "version": 3
   },
   "file_extension": ".py",
   "mimetype": "text/x-python",
   "name": "python",
   "nbconvert_exporter": "python",
   "pygments_lexer": "ipython3",
   "version": "3.8.5-final"
  }
 },
 "nbformat": 4,
 "nbformat_minor": 4
}